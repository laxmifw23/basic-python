{
 "cells": [
  {
   "cell_type": "markdown",
   "metadata": {},
   "source": [
    "PYTHON BASICS QUESTIONS"
   ]
  },
  {
   "cell_type": "markdown",
   "metadata": {},
   "source": [
    "# 01. What is Python, and why is it popular\n",
    "- Python is a high-level, interpreted programming language known for its simplicity, versatility, and ease of use. Created in 1989 by Guido van Rossum, Python has become a popular choice for various applications, including web development, data analysis, machine learning, and automation. Its popularity stems from its simplicity, flexibility, and extensive libraries, making it an ideal language for beginners and experts alike. With a large and active community, Python continues to grow in popularity, driving innovation and advancements in various fields."
   ]
  },
  {
   "cell_type": "markdown",
   "metadata": {},
   "source": [
    "# 02. What is an interpreter in Python \n",
    "- In Python, an interpreter is a program that directly executes Python code without compiling it first. It reads the code line-by-line, interprets its meaning, and performs the desired actions. The interpreter translates the code into machine code, which the computer's processor can execute. This process allows for rapid development, testing, and debugging of Python code. The interpreter also provides error messages and warnings, helping developers identify and fix issues. Popular Python interpreters include CPython, PyPy, and IronPython."
   ]
  },
  {
   "cell_type": "markdown",
   "metadata": {},
   "source": [
    "# 03. What are pre-defined keywords in Python\n",
    "- In Python, predefined keywords are reserved words that have special meanings and cannot be used as variable names or identifiers. Here are the 35 predefined keywords in Python:\n",
    "False, await, else, import, pass,None, break, except, in, raise, True, class, finally, is, return, and, continue, for, lambda, try, as, def, from, nonlocal, while, assert, del, global, not, with, async, elif, if, or, yield.\n",
    "        These keywords are used to define the structure and syntax of Python programs."
   ]
  },
  {
   "cell_type": "markdown",
   "metadata": {},
   "source": [
    "# 04. Can keywords be used as variable names\n",
    "- No, keywords in Python cannot be used as variable names.\n",
    "    Keywords have special meanings in Python, and using them as variable names would cause confusion and potentially lead to errors.\n",
    "If you try to use a keyword as a variable name, Python will raise a SyntaxError.\n",
    "Example:\n",
    "class = 10  # Raises SyntaxError\n",
    "    If you need to use a keyword-like name for a variable, you can append an underscore (_) to the name to avoid conflicts.\n",
    "Example:\n",
    "class_ = 10  # Valid variable name"
   ]
  },
  {
   "cell_type": "markdown",
   "metadata": {},
   "source": [
    "# 05. What is mutability in Python\n",
    "- In Python, mutability refers to the ability of an object to change its value or state after it's created.\n",
    "Mutable Objects:\n",
    "Mutable objects can be modified after they're created. Examples of mutable objects in Python include:\n",
    "1. Lists: [1, 2, 3]\n",
    "2. Dictionaries: {'a': 1, 'b': 2}\n",
    "3. Sets: {1, 2, 3}\n",
    "4. User-defined classes: Instances of classes defined by the user"
   ]
  },
  {
   "cell_type": "markdown",
   "metadata": {},
   "source": [
    "# 06. Why are lists mutable, but tuples are immutable\n",
    "- Lists are mutable because they are designed for dynamic, flexible use cases, such as inserting, deleting, and modifying elements. Lists are implemented as dynamic arrays, allowing for efficient modifications.\n",
    "    Tuples, on the other hand, are immutable because they are designed for static, thread-safe use cases, such as storing fixed-size collections and ensuring data integrity. Tuples are implemented as immutable objects, which simplifies code, reduces bugs, and optimizes performance.\n",
    "        This design difference allows lists and tuples to serve distinct purposes, making Python a more versatile and efficient programming language."
   ]
  },
  {
   "cell_type": "markdown",
   "metadata": {},
   "source": [
    "# 07. What is the difference between “==” and “is” operators in Python\n",
    "- In Python, == and is are two distinct operators used for comparison.\n",
    "- == (equality operator) compares the values of two objects. It checks if the values are equal, regardless of their identity.\n",
    "- is (identity operator) compares the identities of two objects. It checks if both variables refer to the same object in memory."
   ]
  },
  {
   "cell_type": "markdown",
   "metadata": {},
   "source": [
    "# 08. What are logical operators in Python\n",
    "- In Python, logical operators are used to combine conditional statements and make decisions. The three main logical operators are:\n",
    "- and: Returns True if both conditions are true.\n",
    "- or: Returns True if at least one condition is true.\n",
    "- not: Returns the opposite of the condition (i.e., True becomes False and vice versa)."
   ]
  },
  {
   "cell_type": "markdown",
   "metadata": {},
   "source": [
    "# 09.  What is type casting in Python\n",
    "- Type casting in Python is the process of converting a value from one data type to another. This is necessary when performing operations that require a specific data type. Python supports two types of type casting: implicit and explicit. Implicit type casting is done automatically by Python, while explicit type casting is done manually using functions like int(), float(), and str(). Type casting is useful when working with different data types, but it can also lead to loss of precision or errors if not done carefully."
   ]
  },
  {
   "cell_type": "markdown",
   "metadata": {},
   "source": [
    "# 10. What is the difference between implicit and explicit type casting\n",
    "- In Python, type casting can be done implicitly or explicitly.\n",
    "\n",
    ": Implicit Type Casting: Python automatically converts data types without user intervention. This occurs when performing operations that require a specific data type, such as adding a string and an integer.\n",
    ": Explicit Type Casting: The user manually converts data types using functions like int(), float(), and str(). This provides more control over the conversion process."
   ]
  },
  {
   "cell_type": "markdown",
   "metadata": {},
   "source": [
    "# 11. What is the purpose of conditional statements in Python\n",
    "- In Python, conditional statements (if-else statements) allow you to control the flow of your program based on conditions or decisions. The purpose of conditional statements is to:\n",
    "- Execute specific code blocks when certain conditions are met.\n",
    "- Make decisions based on user input, data values, or other factors.\n",
    "- Handle errors and exceptions.\n",
    "- Improve program logic and readability."
   ]
  },
  {
   "cell_type": "markdown",
   "metadata": {},
   "source": [
    "# 12. How does the elif statement work\n",
    "- The elif statement in Python is a combination of \"else\" and \"if\" statements. It allows you to check another condition if the initial \"if\" condition is false.\n",
    "How it Works:\n",
    "1. The program checks the initial if condition (condition1).\n",
    "2. If condition1 is true, the code inside the if block is executed, and the program skips the rest of the elif and else blocks.\n",
    "3. If condition1 is false, the program checks the elif condition (condition2).\n",
    "4. If condition2 is true, the code inside the elif block is executed, and the program skips the else block.\n",
    "5. If all conditions are false, the code inside the else block is executed."
   ]
  },
  {
   "cell_type": "markdown",
   "metadata": {},
   "source": [
    "# 13. What is the difference between for and while loops\n",
    "- In Python, for and while are two types of loops that allow you to execute a block of code repeatedly. The main difference between them is:\n",
    "\n",
    "For Loop:\n",
    "- Used when you know the number of iterations in advance.\n",
    "- Iterates over a sequence (such as a list, tuple, or string) or an iterable object.\n",
    "- Automatically assigns each element of the sequence to a variable on each iteration.\n",
    "\n",
    "While Loop:\n",
    "- Used when you don't know the number of iterations in advance.\n",
    "- Continues to execute the loop body as long as a certain condition is true.\n",
    "- Requires manual increment or decrement of a counter variable."
   ]
  },
  {
   "cell_type": "markdown",
   "metadata": {},
   "source": [
    "# 14. Describe a scenario where a while loop is more suitable than a for loop\n",
    "- A while loop is more suitable when simulating a bank account login system. The system should continuously prompt the user for their username and password until they enter the correct credentials.\n",
    "A for loop is not ideal because:\n",
    "- The number of attempts is unknown.\n",
    "- The loop should terminate based on a conditional statement (correct credentials).\n",
    "\n",
    "A while loop is perfect for this scenario:\n",
    "\n",
    "attempts = 0\n",
    "while attempts < 3:\n",
    "    username = input(\"Enter username: \")\n",
    "    password = input(\"Enter password: \")\n",
    "    if username == \"admin\" and password == \"password\":\n",
    "        print(\"Login successful!\")\n",
    "        break\n",
    "    attempts += 1\n",
    "else:\n",
    "    print(\"Maximum attempts exceeded.\")"
   ]
  },
  {
   "cell_type": "markdown",
   "metadata": {},
   "source": [
    "PRACTICAL QUESTIONS"
   ]
  },
  {
   "cell_type": "code",
   "execution_count": null,
   "metadata": {},
   "outputs": [
    {
     "name": "stdout",
     "output_type": "stream",
     "text": [
      "Hello world!\n"
     ]
    }
   ],
   "source": [
    "#1. Write a Python program to print \"Hello, World!\"\n",
    "print(\"Hello world!\")"
   ]
  },
  {
   "cell_type": "code",
   "execution_count": null,
   "metadata": {},
   "outputs": [
    {
     "name": "stdout",
     "output_type": "stream",
     "text": [
      "hello, My name is Laxmi kumari\n",
      "I am 24 years old\n"
     ]
    }
   ],
   "source": [
    "#2.Write a Python program that displays your name and age.\n",
    "name = \"Laxmi kumari\"\n",
    "age = 24\n",
    "print(\"hello, My name is\", name)\n",
    "print(\"I am\", age , \"years old\")\n",
    "\n"
   ]
  },
  {
   "cell_type": "code",
   "execution_count": 20,
   "metadata": {},
   "outputs": [
    {
     "name": "stdout",
     "output_type": "stream",
     "text": [
      "['False', 'None', 'True', 'and', 'as', 'assert', 'async', 'await', 'break', 'class', 'continue', 'def', 'del', 'elif', 'else', 'except', 'finally', 'for', 'from', 'global', 'if', 'import', 'in', 'is', 'lambda', 'nonlocal', 'not', 'or', 'pass', 'raise', 'return', 'try', 'while', 'with', 'yield']\n"
     ]
    }
   ],
   "source": [
    "#3.Write code to print all the pre-defined keywords in Python using the keyword library.\n",
    "print(keyword.kwlist)\n"
   ]
  },
  {
   "cell_type": "code",
   "execution_count": 33,
   "metadata": {},
   "outputs": [
    {
     "name": "stdout",
     "output_type": "stream",
     "text": [
      "'for' is a Python keyword.\n"
     ]
    }
   ],
   "source": [
    "#04.Write a program that checks if a given word is a Python keyword.\n",
    "word1 = \"for\"\n",
    "\n",
    "if keyword.iskeyword(word1):\n",
    "    print(f\"'{word1}' is a Python keyword.\")\n",
    "else:\n",
    "    print(f\"'{word1}' is not a Python keyword.\")\n",
    "    "
   ]
  },
  {
   "cell_type": "code",
   "execution_count": 31,
   "metadata": {},
   "outputs": [
    {
     "name": "stdout",
     "output_type": "stream",
     "text": [
      "original list: [1, 2, 3, 4, 5]\n",
      "list after changing an element. [1, 2, 100, 4, 5]\n",
      "original tuple: (1, 2, 3, 4, 5)\n"
     ]
    },
    {
     "ename": "TypeError",
     "evalue": "'tuple' object does not support item assignment",
     "output_type": "error",
     "traceback": [
      "\u001b[31m---------------------------------------------------------------------------\u001b[39m",
      "\u001b[31mTypeError\u001b[39m                                 Traceback (most recent call last)",
      "\u001b[36mCell\u001b[39m\u001b[36m \u001b[39m\u001b[32mIn[31]\u001b[39m\u001b[32m, line 13\u001b[39m\n\u001b[32m     10\u001b[39m my_tuple = (\u001b[32m1\u001b[39m, \u001b[32m2\u001b[39m, \u001b[32m3\u001b[39m, \u001b[32m4\u001b[39m, \u001b[32m5\u001b[39m)\n\u001b[32m     11\u001b[39m \u001b[38;5;28mprint\u001b[39m(\u001b[33m\"\u001b[39m\u001b[33moriginal tuple:\u001b[39m\u001b[33m\"\u001b[39m, my_tuple)\n\u001b[32m---> \u001b[39m\u001b[32m13\u001b[39m \u001b[43mmy_tuple\u001b[49m\u001b[43m[\u001b[49m\u001b[32;43m2\u001b[39;49m\u001b[43m]\u001b[49m = \u001b[32m100\u001b[39m\n\u001b[32m     14\u001b[39m \u001b[38;5;28mprint\u001b[39m(\u001b[33m\"\u001b[39m\u001b[33m \u001b[39m\u001b[33m\"\u001b[39m, my_tuple)\n",
      "\u001b[31mTypeError\u001b[39m: 'tuple' object does not support item assignment"
     ]
    }
   ],
   "source": [
    "#05. Create a list and tuple in Python, and demonstrate how attempting to change an element works differently for each.\n",
    "#create a list\n",
    "my_list = [1, 2, 3, 4, 5]\n",
    "print(\"original list:\", my_list)\n",
    "\n",
    "my_list[2] = 100\n",
    "print(\"list after changing an element.\", my_list)\n",
    "\n",
    "#create a tuple\n",
    "my_tuple = (1, 2, 3, 4, 5)\n",
    "print(\"original tuple:\", my_tuple)\n",
    "\n",
    "my_tuple[2] = 100\n",
    "print(\" \", my_tuple)"
   ]
  },
  {
   "cell_type": "code",
   "execution_count": null,
   "metadata": {},
   "outputs": [],
   "source": [
    "# 06. Write a function to demonstrate the behavior of mutable and immutable arguments\n",
    "# 07. Write a function to demonstrate the behavior of mutable and immutable arguments\n",
    "  \n"
   ]
  },
  {
   "cell_type": "code",
   "execution_count": 34,
   "metadata": {},
   "outputs": [
    {
     "name": "stdout",
     "output_type": "stream",
     "text": [
      "The numbers are greater than 0\n",
      "Atleast one number is not greater than 0\n"
     ]
    }
   ],
   "source": [
    "# 08. Write a program to demonstrate the use of logical operators\n",
    "a = 10\n",
    "b = 10\n",
    "c = -10\n",
    "if a > 0 and b > 0:\n",
    "    print(\"The numbers are greater than 0\")\n",
    "    if a > 0 and b > 0 and c> 0:\n",
    "        print(\"The numbers are gtreater than 0\")\n",
    "    else:\n",
    "        print(\"Atleast one number is not greater than 0\")\n",
    "        \n"
   ]
  },
  {
   "cell_type": "code",
   "execution_count": null,
   "metadata": {},
   "outputs": [],
   "source": [
    "# 09. Write a Python program to convert user input from string to integer, float, and boolean types\n"
   ]
  },
  {
   "cell_type": "code",
   "execution_count": null,
   "metadata": {},
   "outputs": [],
   "source": [
    " # 10. Write code to demonstrate type casting with list elements\n"
   ]
  },
  {
   "cell_type": "code",
   "execution_count": 44,
   "metadata": {},
   "outputs": [],
   "source": [
    "# 11. Write a program that checks if a number is positive, negative, or zero\n",
    "\n",
    "\n",
    "num = [1, 2, 3.4, 6]\n",
    "\n",
    "def check_number(num):\n",
    "    if num > 0:\n",
    "        print(num, \"id a positive number.\")\n",
    "    elif num < 0:\n",
    "        print(num, \"is a negative number.\")\n",
    "    else:\n",
    "        print(num, \"is zero\")\n",
    "        check_number(num)"
   ]
  },
  {
   "cell_type": "code",
   "execution_count": 41,
   "metadata": {},
   "outputs": [
    {
     "name": "stdout",
     "output_type": "stream",
     "text": [
      "1\n",
      "2\n",
      "3\n",
      "4\n",
      "5\n",
      "6\n",
      "7\n",
      "8\n",
      "9\n",
      "10\n"
     ]
    }
   ],
   "source": [
    "# 12. Write a for loop to print numbers from 1 to 10\n",
    " \n",
    "for i in range(1, 11):\n",
    " print(i)"
   ]
  },
  {
   "cell_type": "code",
   "execution_count": 42,
   "metadata": {},
   "outputs": [
    {
     "name": "stdout",
     "output_type": "stream",
     "text": [
      "The sum of even numbers between 1 and 50 is: 650\n"
     ]
    }
   ],
   "source": [
    "# 13. Write a Python program to find the sum of all even numbers between 1 and 50\n",
    "\n",
    "start = 1\n",
    "end = 50\n",
    "even_sum = sum([num for num in range(start, end + 1)\n",
    "                if num % 2 == 0])\n",
    "print(\"The sum of even numbers between\", start, \"and\", end, \"is:\", even_sum)\n"
   ]
  },
  {
   "cell_type": "code",
   "execution_count": 38,
   "metadata": {},
   "outputs": [
    {
     "name": "stdout",
     "output_type": "stream",
     "text": [
      "reversed string: \n"
     ]
    }
   ],
   "source": [
    "# 14. Write a program to reverse a string using a while loop\n",
    "\n",
    "input_str = input(\"Enter a string: \")\n",
    "result = input_str[::-1]\n",
    "print(\"reversed string:\", result)\n"
   ]
  },
  {
   "cell_type": "code",
   "execution_count": 1,
   "metadata": {},
   "outputs": [],
   "source": [
    "# 15. Write a Python program to calculate the factorial of a number provided by the user using a while loop.\n"
   ]
  },
  {
   "cell_type": "code",
   "execution_count": null,
   "metadata": {},
   "outputs": [],
   "source": []
  }
 ],
 "metadata": {
  "kernelspec": {
   "display_name": "Python 3",
   "language": "python",
   "name": "python3"
  },
  "language_info": {
   "codemirror_mode": {
    "name": "ipython",
    "version": 3
   },
   "file_extension": ".py",
   "mimetype": "text/x-python",
   "name": "python",
   "nbconvert_exporter": "python",
   "pygments_lexer": "ipython3",
   "version": "3.12.8"
  }
 },
 "nbformat": 4,
 "nbformat_minor": 2
}
